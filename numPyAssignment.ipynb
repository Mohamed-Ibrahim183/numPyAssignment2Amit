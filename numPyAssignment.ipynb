{
  "nbformat": 4,
  "nbformat_minor": 0,
  "metadata": {
    "colab": {
      "provenance": []
    },
    "kernelspec": {
      "name": "python3",
      "display_name": "Python 3"
    },
    "language_info": {
      "name": "python"
    }
  },
  "cells": [
    {
      "cell_type": "code",
      "execution_count": 1,
      "metadata": {
        "id": "Fvytuy5MkmsQ"
      },
      "outputs": [],
      "source": [
        "import numpy as np\n",
        "# This is assignment for numPy"
      ]
    },
    {
      "cell_type": "code",
      "source": [
        "# 1. Write a NumPy program to test whether none of the elements of a given array is zero.\n",
        "noneZero = np.array([1,2,3,4,5,5,6,21,21,2,2,2,1])\n",
        "withZero = np.array([1,2,3,4,5,0,0,2,12])\n",
        "print(np.all(noneZero != 0))\n",
        "print(np.all(withZero != 0))"
      ],
      "metadata": {
        "colab": {
          "base_uri": "https://localhost:8080/"
        },
        "id": "dGp9aC4vk4CT",
        "outputId": "5f71f564-8d4a-492a-c05f-9c6ea05f6d49"
      },
      "execution_count": 5,
      "outputs": [
        {
          "output_type": "stream",
          "name": "stdout",
          "text": [
            "True\n",
            "False\n"
          ]
        }
      ]
    },
    {
      "cell_type": "code",
      "source": [
        "# 2. Write a NumPy program to test whether any of the elements of a given array is non-zero.\n",
        "allZeros = np.array([0,0,0,0,0,0,0,0,0,0])\n",
        "notAllZeros = np.array([1,2,34,5,0,12,0,12])\n",
        "print(\"the array with name {allZeros} has result\",np.all(allZeros == 0))\n",
        "print(\"the array with name {notAllZeros} has result\",np.all(notAllZeros == 0))"
      ],
      "metadata": {
        "colab": {
          "base_uri": "https://localhost:8080/"
        },
        "id": "MbPILsVSlGr5",
        "outputId": "ecefedeb-27a8-44f9-a266-f16c2f0ccc37"
      },
      "execution_count": 6,
      "outputs": [
        {
          "output_type": "stream",
          "name": "stdout",
          "text": [
            "the array with name {allZeros} has result True\n",
            "the array with name {notAllZeros} has result False\n"
          ]
        }
      ]
    },
    {
      "cell_type": "code",
      "source": [
        "# 3. Write a NumPy program to create an element-wise comparison (equal, equal within a tolerance) of two given\n",
        "first = np.array([1,2,3,4,5,6,2,1])\n",
        "second = np.array([1,3,3,4,1,2,3,4])\n",
        "print(first == second)\n",
        "# I Do Not Understadn The Second Task????"
      ],
      "metadata": {
        "colab": {
          "base_uri": "https://localhost:8080/"
        },
        "id": "4vc--w_olGpZ",
        "outputId": "199e5f39-89b0-4537-c475-45bc588e9a31"
      },
      "execution_count": 7,
      "outputs": [
        {
          "output_type": "stream",
          "name": "stdout",
          "text": [
            "[ True False  True  True False False False False]\n"
          ]
        }
      ]
    },
    {
      "cell_type": "code",
      "source": [
        "# 4. Write a NumPy program to create an array of 10 zeros,10 ones, 10 fives.\n",
        "zeros = np.full(10,0)\n",
        "#another method\n",
        "# zeros = np.zeros(10)\n",
        "ones = np.full(10,1)\n",
        "fives = np.full(10,5)\n",
        "# sumAll = zeros.sum() + ones.sum() + fives.sum()\n",
        "sumAll = np.concatenate((zeros,ones,fives))\n",
        "print(sumAll)\n",
        "sumAll.sum()"
      ],
      "metadata": {
        "colab": {
          "base_uri": "https://localhost:8080/"
        },
        "id": "5sjuz2LElGmq",
        "outputId": "a2eb3f49-01a6-4b2b-c091-e9c01b3f5e9a"
      },
      "execution_count": 12,
      "outputs": [
        {
          "output_type": "stream",
          "name": "stdout",
          "text": [
            "[0 0 0 0 0 0 0 0 0 0 1 1 1 1 1 1 1 1 1 1 5 5 5 5 5 5 5 5 5 5]\n"
          ]
        },
        {
          "output_type": "execute_result",
          "data": {
            "text/plain": [
              "60"
            ]
          },
          "metadata": {},
          "execution_count": 12
        }
      ]
    },
    {
      "cell_type": "code",
      "source": [
        "#  5. Write a NumPy program to create an array of the integers from 30 to70.\n",
        "array = np.arange(30,71)\n",
        "array"
      ],
      "metadata": {
        "colab": {
          "base_uri": "https://localhost:8080/"
        },
        "id": "ljYMXdprlGj5",
        "outputId": "2a0931c6-a355-4743-b136-9ea8d34b1ee7"
      },
      "execution_count": 13,
      "outputs": [
        {
          "output_type": "execute_result",
          "data": {
            "text/plain": [
              "array([30, 31, 32, 33, 34, 35, 36, 37, 38, 39, 40, 41, 42, 43, 44, 45, 46,\n",
              "       47, 48, 49, 50, 51, 52, 53, 54, 55, 56, 57, 58, 59, 60, 61, 62, 63,\n",
              "       64, 65, 66, 67, 68, 69, 70])"
            ]
          },
          "metadata": {},
          "execution_count": 13
        }
      ]
    },
    {
      "cell_type": "code",
      "source": [
        "# 6. Write a NumPy program to create a 3x3 identity matrix\n",
        "oneDim = np.array([1,2,3,4])\n",
        "threeDim = oneDim.reshape(2,2,1)\n",
        "print(\"first Array Is \\n\",threeDim)\n",
        "# another way\n",
        "hello = np.eye(3)\n",
        "print(\"Second Array Is: \\n\",hello)"
      ],
      "metadata": {
        "colab": {
          "base_uri": "https://localhost:8080/"
        },
        "id": "EVoxtul1lGhq",
        "outputId": "b408dfdd-9018-4f49-f625-5ea9ae4a4f8c"
      },
      "execution_count": 15,
      "outputs": [
        {
          "output_type": "stream",
          "name": "stdout",
          "text": [
            "first Array Is \n",
            " [[[1]\n",
            "  [2]]\n",
            "\n",
            " [[3]\n",
            "  [4]]]\n",
            "Second Array Is: \n",
            " [[1. 0. 0.]\n",
            " [0. 1. 0.]\n",
            " [0. 0. 1.]]\n"
          ]
        }
      ]
    },
    {
      "cell_type": "code",
      "source": [
        "# 7. Write a NumPy program to generate a random number between 0 and 1\n",
        "# random number between 0 and 1\n",
        "randomNumber = np.random.rand()\n",
        "print(randomNumber)\n",
        "# rnadom number between specific range\n",
        "start = 2\n",
        "end = 10\n",
        "random2 = np.random.uniform(start,end)\n",
        "print(random2)"
      ],
      "metadata": {
        "colab": {
          "base_uri": "https://localhost:8080/"
        },
        "id": "27nlTInRlGfC",
        "outputId": "778e6242-6a6b-449b-afb6-714b950d0095"
      },
      "execution_count": 21,
      "outputs": [
        {
          "output_type": "stream",
          "name": "stdout",
          "text": [
            "0.9297747285292445\n",
            "9.187299787084877\n"
          ]
        }
      ]
    },
    {
      "cell_type": "code",
      "source": [
        "# 8. Write a NumPy program to generate an array of 15 random numbers from a standard normal distribution\n",
        "# standard normal distribution ????????????\n",
        "randomArray = np.random.randn(15)\n",
        "print(randomArray)\n",
        "# make array with random values between specifc range\n",
        "start = 0\n",
        "end = 10\n",
        "hello = np.random.uniform(start,end,15)\n",
        "print(hello)"
      ],
      "metadata": {
        "id": "lPLMqKxJlGcT"
      },
      "execution_count": null,
      "outputs": []
    },
    {
      "cell_type": "code",
      "source": [
        "# 9. Write a NumPy program to create a vector with values ranging from 15 to 55 and print all values except the first and last.\n",
        "allValues = np.arange(15,56)\n",
        "print(allValues[1:])"
      ],
      "metadata": {
        "colab": {
          "base_uri": "https://localhost:8080/"
        },
        "id": "FjlAmY6rlGZh",
        "outputId": "f0462ba2-daaa-4202-bd27-5e707b90c9fb"
      },
      "execution_count": 23,
      "outputs": [
        {
          "output_type": "stream",
          "name": "stdout",
          "text": [
            "[16 17 18 19 20 21 22 23 24 25 26 27 28 29 30 31 32 33 34 35 36 37 38 39\n",
            " 40 41 42 43 44 45 46 47 48 49 50 51 52 53 54 55]\n"
          ]
        }
      ]
    },
    {
      "cell_type": "code",
      "source": [
        "# 10. Write a NumPy program to create a vector of length 5 filled with arbitrary integers from 0 to 10\n",
        "randomArray = np.random.uniform(0,10,5)\n",
        "print(randomArray)"
      ],
      "metadata": {
        "colab": {
          "base_uri": "https://localhost:8080/"
        },
        "id": "iLm_iphilGXC",
        "outputId": "631d300b-2335-43ab-98d7-29d55886c3b5"
      },
      "execution_count": 24,
      "outputs": [
        {
          "output_type": "stream",
          "name": "stdout",
          "text": [
            "[6.92785131 0.36344942 9.35527807 7.12701111 1.34950666]\n"
          ]
        }
      ]
    },
    {
      "cell_type": "code",
      "source": [
        "# 11. Write a NumPy program to create a 10x10 matrix, in which the elements on the borders will be equal to 1, and inside 0.\n",
        "matrix = np.full((10,10),0)\n",
        "matrix[0,:10] = matrix[:,0] = matrix[:,9] = matrix[9,:] = 1\n",
        "print(matrix)"
      ],
      "metadata": {
        "colab": {
          "base_uri": "https://localhost:8080/"
        },
        "id": "k7-H92DtlGUb",
        "outputId": "b0d9a1bc-2cd0-4045-9723-11a6a29a1f72"
      },
      "execution_count": 25,
      "outputs": [
        {
          "output_type": "stream",
          "name": "stdout",
          "text": [
            "[[1 1 1 1 1 1 1 1 1 1]\n",
            " [1 0 0 0 0 0 0 0 0 1]\n",
            " [1 0 0 0 0 0 0 0 0 1]\n",
            " [1 0 0 0 0 0 0 0 0 1]\n",
            " [1 0 0 0 0 0 0 0 0 1]\n",
            " [1 0 0 0 0 0 0 0 0 1]\n",
            " [1 0 0 0 0 0 0 0 0 1]\n",
            " [1 0 0 0 0 0 0 0 0 1]\n",
            " [1 0 0 0 0 0 0 0 0 1]\n",
            " [1 1 1 1 1 1 1 1 1 1]]\n"
          ]
        }
      ]
    },
    {
      "cell_type": "code",
      "source": [
        " # 12. Write a NumPy program to create a 5x5 zero matrix with elements on the main diagonal equal to 1, 2, 3, 4, 5.\n",
        "matrix = np.diag([1, 2, 3, 4, 5])\n",
        "print(\"main matrix is \",matrix)\n",
        "seocnd = np.eye(5)*[1,2,3,4,5]\n",
        "print(\"second array is \\n\",seocnd)\n",
        "third = np.diagflat([1, 2, 3, 4, 5])\n",
        "print(\"third array is\\n\", third)\n",
        "fourth = np.full((5,5),0)\n",
        "np.fill_diagonal(fourth, [1, 2, 3, 4, 5])\n",
        "print(\"fourth matrix is \\n\",fourth)\n",
        "# if you want to replace zeros with specifc number\n",
        "# matrix = np.where(matrix == 0,9,matrix)"
      ],
      "metadata": {
        "colab": {
          "base_uri": "https://localhost:8080/"
        },
        "id": "_CRVHcD0lGRp",
        "outputId": "f6ceb2ea-296c-4a62-9918-3a46c86dced5"
      },
      "execution_count": 27,
      "outputs": [
        {
          "output_type": "stream",
          "name": "stdout",
          "text": [
            "main matrix is  [[1 0 0 0 0]\n",
            " [0 2 0 0 0]\n",
            " [0 0 3 0 0]\n",
            " [0 0 0 4 0]\n",
            " [0 0 0 0 5]]\n",
            "second array is \n",
            " [[1. 0. 0. 0. 0.]\n",
            " [0. 2. 0. 0. 0.]\n",
            " [0. 0. 3. 0. 0.]\n",
            " [0. 0. 0. 4. 0.]\n",
            " [0. 0. 0. 0. 5.]]\n",
            "third array is\n",
            " [[1 0 0 0 0]\n",
            " [0 2 0 0 0]\n",
            " [0 0 3 0 0]\n",
            " [0 0 0 4 0]\n",
            " [0 0 0 0 5]]\n",
            "fourth matrix is \n",
            " [[1 0 0 0 0]\n",
            " [0 2 0 0 0]\n",
            " [0 0 3 0 0]\n",
            " [0 0 0 4 0]\n",
            " [0 0 0 0 5]]\n"
          ]
        }
      ]
    },
    {
      "cell_type": "code",
      "source": [
        "# 13. Write a NumPy program to create a 4x4 matrix in which 0 and 1 are staggered, with zeros on the main diagonal.\n",
        "matrix = np.array([[1, 0, 1, 0],\n",
        "                   [0, 1, 0, 1],\n",
        "                   [1, 0, 1, 0],\n",
        "                   [0, 1, 0, 1]])\n",
        "\n",
        "np.fill_diagonal(matrix, 0)\n",
        "\n",
        "print(matrix)"
      ],
      "metadata": {
        "colab": {
          "base_uri": "https://localhost:8080/"
        },
        "id": "hyr0zbGtlGPB",
        "outputId": "2b5cad3e-53ea-40d0-9aa4-e861fe1f8ffa"
      },
      "execution_count": 28,
      "outputs": [
        {
          "output_type": "stream",
          "name": "stdout",
          "text": [
            "[[0 0 1 0]\n",
            " [0 0 0 1]\n",
            " [1 0 0 0]\n",
            " [0 1 0 0]]\n"
          ]
        }
      ]
    },
    {
      "cell_type": "code",
      "source": [
        "#14. Write a NumPy program to save two given arrays into a single file in compressed format (.npz format) and load it.\n",
        "# I Do Not Understand The Question"
      ],
      "metadata": {
        "id": "5HkYdDYXlGMa"
      },
      "execution_count": null,
      "outputs": []
    },
    {
      "cell_type": "code",
      "source": [
        "# 15. Write a NumPy program to create a one-dimensional array of forty pseudo-randomly generated values. Select\n",
        "randomArray = np.random.rand(40)\n",
        "print(\"all random array is\",randomArray)\n",
        "start =  0\n",
        "end = 20\n",
        "print(\"selected range is \\n\",randomArray[start:end])"
      ],
      "metadata": {
        "colab": {
          "base_uri": "https://localhost:8080/"
        },
        "id": "xOuhvX2ClGJ6",
        "outputId": "9e328c30-d7fc-4cde-c862-e1081c38794c"
      },
      "execution_count": 29,
      "outputs": [
        {
          "output_type": "stream",
          "name": "stdout",
          "text": [
            "all random array is [0.54487364 0.74789582 0.17036417 0.92146816 0.23469119 0.17081777\n",
            " 0.48195269 0.67027783 0.45844107 0.31673155 0.07300852 0.972862\n",
            " 0.13402112 0.95189861 0.17211297 0.79271608 0.78689725 0.04839846\n",
            " 0.57780373 0.67227372 0.7515222  0.91097458 0.88519478 0.41900545\n",
            " 0.91195782 0.48432744 0.15334691 0.5922953  0.47618406 0.23992608\n",
            " 0.12217944 0.08473795 0.337215   0.01006855 0.0418879  0.28696808\n",
            " 0.8592532  0.71708891 0.09947939 0.66286682]\n",
            "selected range is \n",
            " [0.54487364 0.74789582 0.17036417 0.92146816 0.23469119 0.17081777\n",
            " 0.48195269 0.67027783 0.45844107 0.31673155 0.07300852 0.972862\n",
            " 0.13402112 0.95189861 0.17211297 0.79271608 0.78689725 0.04839846\n",
            " 0.57780373 0.67227372]\n"
          ]
        }
      ]
    },
    {
      "cell_type": "code",
      "source": [
        "# 16. Write a NumPy program to extract all numbers from a given array which are less and greater than a specified number.\n",
        "mainArray = np.array([1,2,3,4,5,6,22,2,2])\n",
        "value = 2\n",
        "otherValues = mainArray[(mainArray < value) | (mainArray > value)]\n",
        "print(otherValues)"
      ],
      "metadata": {
        "colab": {
          "base_uri": "https://localhost:8080/"
        },
        "id": "lWu_SB4DlGHL",
        "outputId": "b17d66ab-e405-4637-9ed4-48847649408e"
      },
      "execution_count": 30,
      "outputs": [
        {
          "output_type": "stream",
          "name": "stdout",
          "text": [
            "[ 1  3  4  5  6 22]\n"
          ]
        }
      ]
    },
    {
      "cell_type": "code",
      "source": [],
      "metadata": {
        "id": "LqjBi596lGES"
      },
      "execution_count": null,
      "outputs": []
    },
    {
      "cell_type": "code",
      "source": [],
      "metadata": {
        "id": "7QyWDbv1lGBi"
      },
      "execution_count": null,
      "outputs": []
    },
    {
      "cell_type": "code",
      "source": [],
      "metadata": {
        "id": "5PGyo0vUlF_R"
      },
      "execution_count": null,
      "outputs": []
    },
    {
      "cell_type": "code",
      "source": [],
      "metadata": {
        "id": "263tMOtylF8q"
      },
      "execution_count": null,
      "outputs": []
    },
    {
      "cell_type": "code",
      "source": [],
      "metadata": {
        "id": "t9zXeNg9lF4C"
      },
      "execution_count": null,
      "outputs": []
    }
  ]
}